{
 "cells": [
  {
   "cell_type": "markdown",
   "id": "eae52b71",
   "metadata": {},
   "source": [
    "# Travail Pratique 6"
   ]
  },
  {
   "cell_type": "markdown",
   "id": "a51c8753",
   "metadata": {},
   "source": [
    "# <div class=\"alert alert-block alert-success\">\n",
    "<b>Informations générales </b>\n",
    "</div>\n",
    "\n",
    "**Professeur**: Stephan Robert\n",
    "\n",
    "**Assistant(s)**: Félicien Hêche\n",
    "\n",
    "**Contact**: stephan.o.robert@gmail.com, felicien.heche@gmail.com ou via Teams\n",
    "\n",
    "**Rendu**:\n",
    "\n",
    "- Date: \n",
    "- Modalité: Travail individuel. Une fois complétées, copiez les réponses dans le ficher \"**TP6_APV_S1-2023_Nom_Prenom.*****\" (*** = ce que vous voulez qui soit lisible pour nous: .pdf, .html, ...) en remplaçant Nom et Prenom par les votres puis uploader votre fichier sur Cyberlearn.\n",
    "- Note: Ce TP est noté sur 6, pour un poids de x%\n",
    "\n",
    "**Étudiant**:\n",
    "\n",
    "- Hugo Huart\n",
    "\n",
    "<div class=\"alert alert-block alert-success\">\n",
    "\n",
    "<b>But du TP </b>\n",
    "</div>\n",
    "\n",
    "Le but de travail pratique est d'étudier les effets des différents paramètres sur la construction d'un arbre de décsision. Pour faire cela, on va utiliser une implémentation de l'arbre de décision fournie par sklearn.\n",
    "\n",
    "\n",
    "<!---\n",
    "<div class=\"alert alert-block alert-info\">\n",
    "<b>Rappel </b>\n",
    "</div>\n",
    "-->\n",
    "\n",
    "<div class=\"alert alert-block alert-success\">\n",
    "<b>Table des matières </b>\n",
    "</div>\n",
    "\n",
    "1. Dataset\n",
    "2. Arbre de décision\n",
    "3. Hyperparameter tuning\n",
    "4. Test\n"
   ]
  },
  {
   "cell_type": "markdown",
   "id": "971de5bc",
   "metadata": {},
   "source": [
    "## 1. Dataset"
   ]
  },
  {
   "cell_type": "markdown",
   "id": "45c4f0f3",
   "metadata": {},
   "source": [
    "Commençons par importer quelques packages."
   ]
  },
  {
   "cell_type": "code",
   "execution_count": 252,
   "id": "7672bbc2",
   "metadata": {},
   "outputs": [],
   "source": [
    "import itertools\n",
    "import numpy as np\n",
    "import sklearn\n",
    "from sklearn import datasets\n",
    "import pandas as pd\n",
    "import matplotlib.pyplot as plt\n",
    "from sklearn import tree\n",
    "from sklearn.tree import DecisionTreeClassifier\n",
    "from sklearn.model_selection import train_test_split\n",
    "from sklearn.metrics import accuracy_score"
   ]
  },
  {
   "cell_type": "markdown",
   "id": "875cc46e",
   "metadata": {},
   "source": [
    "Nous allons utiliser le même dataset que pour lors du TP 4."
   ]
  },
  {
   "cell_type": "code",
   "execution_count": 253,
   "id": "51a5e9a0",
   "metadata": {},
   "outputs": [
    {
     "name": "stdout",
     "output_type": "stream",
     "text": [
      ".. _wine_dataset:\n",
      "\n",
      "Wine recognition dataset\n",
      "------------------------\n",
      "\n",
      "**Data Set Characteristics:**\n",
      "\n",
      "    :Number of Instances: 178\n",
      "    :Number of Attributes: 13 numeric, predictive attributes and the class\n",
      "    :Attribute Information:\n",
      " \t\t- Alcohol\n",
      " \t\t- Malic acid\n",
      " \t\t- Ash\n",
      "\t\t- Alcalinity of ash  \n",
      " \t\t- Magnesium\n",
      "\t\t- Total phenols\n",
      " \t\t- Flavanoids\n",
      " \t\t- Nonflavanoid phenols\n",
      " \t\t- Proanthocyanins\n",
      "\t\t- Color intensity\n",
      " \t\t- Hue\n",
      " \t\t- OD280/OD315 of diluted wines\n",
      " \t\t- Proline\n",
      "\n",
      "    - class:\n",
      "            - class_0\n",
      "            - class_1\n",
      "            - class_2\n",
      "\t\t\n",
      "    :Summary Statistics:\n",
      "    \n",
      "    ============================= ==== ===== ======= =====\n",
      "                                   Min   Max   Mean     SD\n",
      "    ============================= ==== ===== ======= =====\n",
      "    Alcohol:                      11.0  14.8    13.0   0.8\n",
      "    Malic Acid:                   0.74  5.80    2.34  1.12\n",
      "    Ash:                          1.36  3.23    2.36  0.27\n",
      "    Alcalinity of Ash:            10.6  30.0    19.5   3.3\n",
      "    Magnesium:                    70.0 162.0    99.7  14.3\n",
      "    Total Phenols:                0.98  3.88    2.29  0.63\n",
      "    Flavanoids:                   0.34  5.08    2.03  1.00\n",
      "    Nonflavanoid Phenols:         0.13  0.66    0.36  0.12\n",
      "    Proanthocyanins:              0.41  3.58    1.59  0.57\n",
      "    Colour Intensity:              1.3  13.0     5.1   2.3\n",
      "    Hue:                          0.48  1.71    0.96  0.23\n",
      "    OD280/OD315 of diluted wines: 1.27  4.00    2.61  0.71\n",
      "    Proline:                       278  1680     746   315\n",
      "    ============================= ==== ===== ======= =====\n",
      "\n",
      "    :Missing Attribute Values: None\n",
      "    :Class Distribution: class_0 (59), class_1 (71), class_2 (48)\n",
      "    :Creator: R.A. Fisher\n",
      "    :Donor: Michael Marshall (MARSHALL%PLU@io.arc.nasa.gov)\n",
      "    :Date: July, 1988\n",
      "\n",
      "This is a copy of UCI ML Wine recognition datasets.\n",
      "https://archive.ics.uci.edu/ml/machine-learning-databases/wine/wine.data\n",
      "\n",
      "The data is the results of a chemical analysis of wines grown in the same\n",
      "region in Italy by three different cultivators. There are thirteen different\n",
      "measurements taken for different constituents found in the three types of\n",
      "wine.\n",
      "\n",
      "Original Owners: \n",
      "\n",
      "Forina, M. et al, PARVUS - \n",
      "An Extendible Package for Data Exploration, Classification and Correlation. \n",
      "Institute of Pharmaceutical and Food Analysis and Technologies,\n",
      "Via Brigata Salerno, 16147 Genoa, Italy.\n",
      "\n",
      "Citation:\n",
      "\n",
      "Lichman, M. (2013). UCI Machine Learning Repository\n",
      "[https://archive.ics.uci.edu/ml]. Irvine, CA: University of California,\n",
      "School of Information and Computer Science. \n",
      "\n",
      "|details-start|\n",
      "**References**\n",
      "|details-split|\n",
      "\n",
      "(1) S. Aeberhard, D. Coomans and O. de Vel, \n",
      "Comparison of Classifiers in High Dimensional Settings, \n",
      "Tech. Rep. no. 92-02, (1992), Dept. of Computer Science and Dept. of  \n",
      "Mathematics and Statistics, James Cook University of North Queensland. \n",
      "(Also submitted to Technometrics). \n",
      "\n",
      "The data was used with many others for comparing various \n",
      "classifiers. The classes are separable, though only RDA \n",
      "has achieved 100% correct classification. \n",
      "(RDA : 100%, QDA 99.4%, LDA 98.9%, 1NN 96.1% (z-transformed data)) \n",
      "(All results using the leave-one-out technique) \n",
      "\n",
      "(2) S. Aeberhard, D. Coomans and O. de Vel, \n",
      "\"THE CLASSIFICATION PERFORMANCE OF RDA\" \n",
      "Tech. Rep. no. 92-01, (1992), Dept. of Computer Science and Dept. of \n",
      "Mathematics and Statistics, James Cook University of North Queensland. \n",
      "(Also submitted to Journal of Chemometrics).\n",
      "\n",
      "|details-end|\n"
     ]
    }
   ],
   "source": [
    "# load the dataset\n",
    "dataset = datasets.load_wine()\n",
    "print(dataset.DESCR)"
   ]
  },
  {
   "cell_type": "markdown",
   "id": "b2b2f0c0",
   "metadata": {},
   "source": [
    "Nous allons maintenant utiliser ce dataset pour construire notre training, validation et test dataset."
   ]
  },
  {
   "cell_type": "code",
   "execution_count": 254,
   "id": "9a69f364",
   "metadata": {},
   "outputs": [],
   "source": [
    "X_train, X_tmp, Y_train, Y_tmp = train_test_split(dataset.data, dataset.target, test_size=0.3)\n",
    "X_val, X_test, Y_val, Y_test = train_test_split(X_tmp, Y_tmp, test_size=0.5)"
   ]
  },
  {
   "cell_type": "markdown",
   "id": "1e7f66c9",
   "metadata": {},
   "source": [
    "## 2. Arbre de décision"
   ]
  },
  {
   "cell_type": "markdown",
   "id": "e25e0f9c",
   "metadata": {},
   "source": [
    "Nous allons maintenant écrire une fonction, qui va construire un arbre de décision et l'évaluer. Pour se faciliter la vie, on va utiliser DecisionTreeClassifier de sklearn. Vous pouvez trouver la doc officielle [ici](https://scikit-learn.org/stable/modules/generated/sklearn.tree.DecisionTreeClassifier.html)."
   ]
  },
  {
   "cell_type": "code",
   "execution_count": 255,
   "id": "bf734326",
   "metadata": {},
   "outputs": [],
   "source": [
    "def build_and_evaluate_decisison_tree(X_train, \n",
    "                                      Y_train, \n",
    "                                      X_val, \n",
    "                                      Y_val, \n",
    "                                      criterion='entropy', \n",
    "                                      min_samples_split=2,\n",
    "                                      show=False,\n",
    "                                      max_depth=None):\n",
    "    \"\"\"\n",
    "    Build a decision tree using (X_train, Y_train) and evaluate it\n",
    "    on (X_val, Y_val). Return the accuracy on the training and validation dataset and the decison tree.\n",
    "    \n",
    "    If the the boolean show is set to True, this function prints the computed accuracy on training and validation dataset.\n",
    "    \"\"\"\n",
    "    clf = DecisionTreeClassifier(criterion=criterion, min_samples_split=min_samples_split, max_depth=max_depth)\n",
    "    clf.fit(X_train, Y_train)\n",
    "\n",
    "    pred_train = clf.predict(X_train)\n",
    "    pred_val = clf.predict(X_val)\n",
    "\n",
    "    train_acc = accuracy_score(pred_train, Y_train)\n",
    "    val_acc = accuracy_score(pred_val, Y_val)\n",
    "\n",
    "    if show:\n",
    "        print(f\"We obtain a training accuracy of {train_acc:.2%} and a validation accuracy of {val_acc:.2%}\")\n",
    "\n",
    "    return train_acc, val_acc, clf\n"
   ]
  },
  {
   "cell_type": "code",
   "execution_count": 256,
   "id": "beb1545a",
   "metadata": {},
   "outputs": [
    {
     "name": "stdout",
     "output_type": "stream",
     "text": [
      "We obtain a training accuracy of 100.00% and a validation accuracy of 88.89%\n"
     ]
    }
   ],
   "source": [
    "# Just a small test\n",
    "train_acc, val_acc, _ = build_and_evaluate_decisison_tree(X_train, Y_train, X_val, Y_val, show=True)"
   ]
  },
  {
   "cell_type": "markdown",
   "id": "ebdf7472",
   "metadata": {},
   "source": [
    "## 3. Hyperparameters tuning"
   ]
  },
  {
   "cell_type": "markdown",
   "id": "442876e6",
   "metadata": {},
   "source": [
    "Nous allons maintenant trouver les meilleurs hyperparamètres pour construire notre arbre de décision."
   ]
  },
  {
   "cell_type": "markdown",
   "id": "7072b9ba",
   "metadata": {},
   "source": [
    "Pour commencer, essayons de la meilleur valeur du paramètre 'min_samples_split'."
   ]
  },
  {
   "cell_type": "code",
   "execution_count": 257,
   "id": "2556c322",
   "metadata": {},
   "outputs": [],
   "source": [
    "def max_split_tuning(X_train, Y_train, X_val, Y_val, min_split=2, max_split=100, show=False):\n",
    "    \"\"\"\n",
    "    Build and evaluate a decision tree on training and evaluation dataset testing all min_samples_split values which go between \n",
    "    min_split and max_split value.\n",
    "    If the parameter 'show' is set to 'True', this function plot the accuracy on validation and training dataset according to \n",
    "    parameter min_samples_split.\n",
    "    \n",
    "    Returns the best min_samples_split parameter and the accuracy on the validation dataset for the decision tree built with\n",
    "    this parameter.\n",
    "    \"\"\"\n",
    "\n",
    "    x = np.arange(min_split, max_split + 1, dtype=float)\n",
    "    train_accs = x.copy()\n",
    "    val_accs = x.copy()\n",
    "\n",
    "    for i, split in enumerate(range(min_split, max_split + 1)):\n",
    "        train_accs[i], val_accs[i], _ = build_and_evaluate_decisison_tree(X_train, Y_train, X_val, Y_val, min_samples_split=split)\n",
    "    \n",
    "    if show:\n",
    "        fig, ax = plt.subplots()\n",
    "        ax.plot(x, train_accs, label=\"Training accuracy\")\n",
    "        ax.plot(x, val_accs, label=\"Validation accuracy\")\n",
    "\n",
    "        ax.set_ylabel(\"Accuracy\")\n",
    "        ax.legend()\n",
    "        plt.show()\n",
    "\n",
    "    best = np.argmax(val_accs)\n",
    "    return best + min_split, val_accs[best]\n"
   ]
  },
  {
   "cell_type": "markdown",
   "id": "705707c5",
   "metadata": {
    "scrolled": true
   },
   "source": [
    "Nous pouvons maintenant utiliser cette fonction pour estimer le meilleur paramètre 'min_samples_split'."
   ]
  },
  {
   "cell_type": "code",
   "execution_count": 258,
   "id": "dfade1d2",
   "metadata": {},
   "outputs": [
    {
     "data": {
      "image/png": "[encoded data removed]",
      "text/plain": [
       "<Figure size 640x480 with 1 Axes>"
      ]
     },
     "metadata": {},
     "output_type": "display_data"
    },
    {
     "name": "stdout",
     "output_type": "stream",
     "text": [
      "Best_split is 4 which provides a validation accuracy of 0.9259259259259259%.\n"
     ]
    }
   ],
   "source": [
    "best_split, acc = max_split_tuning(X_train, Y_train, X_val, Y_val, min_split=2, max_split=50, show=True)\n",
    "print('Best_split is {} which provides a validation accuracy of {}%.'.format(best_split, acc))"
   ]
  },
  {
   "cell_type": "markdown",
   "id": "be125f7c",
   "metadata": {},
   "source": [
    "En utilisant la même approche que ci-dessus, on va essayer de déterminer la valeure la plus adéquate pour le paramètre 'max_depth'."
   ]
  },
  {
   "cell_type": "code",
   "execution_count": 259,
   "id": "93f7644d",
   "metadata": {},
   "outputs": [],
   "source": [
    "def max_depth_tuning(X_train, Y_train, X_val, Y_val, depth, min_depth=2, max_allowed_depth=100, show=False):\n",
    "    \"\"\"\n",
    "    Build and evaluate a decision tree on training and evaluation dataset testing all values for max_depth parameter which go\n",
    "    between min_depth and max_allowed_depth\n",
    "    \n",
    "    If the parameter show is set to True, this function plot the accuracy on validation and training dataset according to \n",
    "    parameter max_depth.\n",
    "    \n",
    "    Returns the best max_depth parameter and the accuracy on the validation dataset for the decision tree built with\n",
    "    this parameter.\n",
    "    \"\"\"\n",
    "\n",
    "    x = np.arange(min_depth, max_allowed_depth + 1, dtype=float)\n",
    "    train_accs = x.copy()\n",
    "    val_accs = x.copy()\n",
    "\n",
    "    for i, depth in enumerate(range(min_depth, max_allowed_depth + 1)):\n",
    "        train_accs[i], val_accs[i], _ = build_and_evaluate_decisison_tree(X_train, Y_train, X_val, Y_val, max_depth=depth)\n",
    "    \n",
    "    if show:\n",
    "        fig, ax = plt.subplots()\n",
    "        ax.plot(x, train_accs, label=\"Training accuracy\")\n",
    "        ax.plot(x, val_accs, label=\"Validation accuracy\")\n",
    "\n",
    "        ax.set_ylabel(\"Accuracy\")\n",
    "        ax.legend()\n",
    "        plt.show()\n",
    "\n",
    "    best = np.argmax(val_accs)\n",
    "    return best + min_depth, val_accs[best]"
   ]
  },
  {
   "cell_type": "markdown",
   "id": "0fa510f0",
   "metadata": {},
   "source": [
    "Déterminons maintenant le paramètre optimal de 'max_depth' en considérant le paramètre 'min_samples_split' estimé ci-dessus."
   ]
  },
  {
   "cell_type": "code",
   "execution_count": 260,
   "id": "38f950b0",
   "metadata": {},
   "outputs": [
    {
     "data": {
      "image/png": "[encoded data removed]",
      "text/plain": [
       "<Figure size 640x480 with 1 Axes>"
      ]
     },
     "metadata": {},
     "output_type": "display_data"
    },
    {
     "name": "stdout",
     "output_type": "stream",
     "text": [
      "Best_depth is 4 which provides a validation accuracy of 0.9259259259259259%.\n"
     ]
    }
   ],
   "source": [
    "best_depth, acc = max_depth_tuning(X_train, Y_train, X_val, Y_val, \n",
    "                                   depth=best_split, min_depth=2, \n",
    "                                   max_allowed_depth=50, show=True)\n",
    "print('Best_depth is {} which provides a validation accuracy of {}%.'.format(best_depth, acc))"
   ]
  },
  {
   "cell_type": "markdown",
   "id": "1d73d764",
   "metadata": {},
   "source": [
    "Maintenant nous allons utiliser une autre approche pour trouver les paramètres 'max_depth' et 'min_samples_split' optimaux."
   ]
  },
  {
   "cell_type": "code",
   "execution_count": 261,
   "id": "576f1eb7",
   "metadata": {},
   "outputs": [],
   "source": [
    "def grid_search(X_train, \n",
    "                Y_train, \n",
    "                X_val, \n",
    "                Y_val, \n",
    "                min_depth=2, \n",
    "                max_allowed_depth=30, \n",
    "                min_split=2,\n",
    "                max_split=30):\n",
    "    \"\"\"\n",
    "    Build and evaluate a decision tree on training and evaluation dataset testing all values for max_depth parameter which go\n",
    "    between min_depth and max_allowed_depth\n",
    "    \n",
    "    If the parameter show is set to True, this function plot the accuracy on validation and training dataset according to \n",
    "    parameter max_depth.\n",
    "    \n",
    "    Returns the best max_depth parameter and the accuracy on the validation dataset for the decision tree built with\n",
    "    this parameter.\n",
    "    \"\"\"\n",
    "\n",
    "    depths = np.arange(min_depth, max_allowed_depth + 1)\n",
    "    splits = np.arange(min_split, max_split + 1)\n",
    "\n",
    "    best_acc = 0\n",
    "    best_depth = 0\n",
    "    best_split = 0\n",
    "    for depth, split in itertools.product(depths, splits):\n",
    "        _, val_acc, _ = build_and_evaluate_decisison_tree(X_train, Y_train, X_val, Y_val, max_depth=depth, min_samples_split=split)\n",
    "\n",
    "        if val_acc > best_acc:\n",
    "            best_acc = val_acc\n",
    "            best_depth = depth\n",
    "            best_split = split\n",
    "\n",
    "    return best_depth, best_split, best_acc\n",
    "    "
   ]
  },
  {
   "cell_type": "code",
   "execution_count": 262,
   "id": "9e58c834",
   "metadata": {},
   "outputs": [],
   "source": [
    "best_depth, best_split, best_accuracy = grid_search(X_train, Y_train, X_val, Y_val)"
   ]
  },
  {
   "cell_type": "code",
   "execution_count": 263,
   "id": "0c577b7d",
   "metadata": {},
   "outputs": [
    {
     "name": "stdout",
     "output_type": "stream",
     "text": [
      "Best max_depth parameter is 4, best_split parameter is 3.\n",
      "Using these two parameters we got a validation accuracy of 92.59%\n"
     ]
    }
   ],
   "source": [
    "print('Best max_depth parameter is {}, best_split parameter is {}.'.format(best_depth, best_split))\n",
    "print('Using these two parameters we got a validation accuracy of {}%'.format(np.round(best_accuracy*100, 2)))"
   ]
  },
  {
   "cell_type": "markdown",
   "id": "8b785435",
   "metadata": {},
   "source": [
    "## 4. Test et visualisation de l'arbre"
   ]
  },
  {
   "cell_type": "markdown",
   "id": "52a24aac",
   "metadata": {},
   "source": [
    "Maintenant que nous avons déterminé les hyperpamètres les plus judicieux, nous allons construire un arbre de décision en tenant compte de ces paramètres et le tester sur le test dataset."
   ]
  },
  {
   "cell_type": "code",
   "execution_count": 264,
   "id": "99b8068e",
   "metadata": {},
   "outputs": [],
   "source": [
    "# TODO : build the decision tree using the best parameter found using 'grid_search' function and test it on the test dataset."
   ]
  },
  {
   "cell_type": "markdown",
   "id": "6cb88272",
   "metadata": {},
   "source": [
    "Pour finir, nous allons encore visualiser l'arbre de décision construit. "
   ]
  },
  {
   "cell_type": "code",
   "execution_count": 265,
   "id": "50afe964",
   "metadata": {},
   "outputs": [],
   "source": [
    "# TODO : plot the decision tree built above."
   ]
  }
 ],
 "metadata": {
  "kernelspec": {
   "display_name": "Python 3 (ipykernel)",
   "language": "python",
   "name": "python3"
  },
  "language_info": {
   "codemirror_mode": {
    "name": "ipython",
    "version": 3
   },
   "file_extension": ".py",
   "mimetype": "text/x-python",
   "name": "python",
   "nbconvert_exporter": "python",
   "pygments_lexer": "ipython3",
   "version": "3.11.6"
  }
 },
 "nbformat": 4,
 "nbformat_minor": 5
}
